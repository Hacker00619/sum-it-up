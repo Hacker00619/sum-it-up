{
 "cells": [
  {
   "cell_type": "code",
   "execution_count": 1,
   "metadata": {},
   "outputs": [
    {
     "name": "stderr",
     "output_type": "stream",
     "text": [
      "c:\\Users\\Jash\\AppData\\Local\\Programs\\Python\\Python39\\lib\\site-packages\\tqdm\\auto.py:22: TqdmWarning: IProgress not found. Please update jupyter and ipywidgets. See https://ipywidgets.readthedocs.io/en/stable/user_install.html\n",
      "  from .autonotebook import tqdm as notebook_tqdm\n"
     ]
    }
   ],
   "source": [
    "# from tensorflow import keras\n",
    "from transformers import pipeline"
   ]
  },
  {
   "cell_type": "code",
   "execution_count": 2,
   "metadata": {},
   "outputs": [
    {
     "name": "stderr",
     "output_type": "stream",
     "text": [
      "No model was supplied, defaulted to sshleifer/distilbart-cnn-12-6 and revision a4f8f3e (https://huggingface.co/sshleifer/distilbart-cnn-12-6).\n",
      "Using a pipeline without specifying a model name and revision in production is not recommended.\n",
      "Downloading (…)\"pytorch_model.bin\";: 100%|██████████| 1.22G/1.22G [03:08<00:00, 6.48MB/s]\n",
      "c:\\Users\\Jash\\AppData\\Local\\Programs\\Python\\Python39\\lib\\site-packages\\huggingface_hub\\file_download.py:129: UserWarning: `huggingface_hub` cache-system uses symlinks by default to efficiently store duplicated files but your machine does not support them in C:\\Users\\Jash\\.cache\\huggingface\\hub. Caching files will still work but in a degraded version that might require more space on your disk. This warning can be disabled by setting the `HF_HUB_DISABLE_SYMLINKS_WARNING` environment variable. For more details, see https://huggingface.co/docs/huggingface_hub/how-to-cache#limitations.\n",
      "To support symlinks on Windows, you either need to activate Developer Mode or to run Python as an administrator. In order to see activate developer mode, see this article: https://docs.microsoft.com/en-us/windows/apps/get-started/enable-your-device-for-development\n",
      "  warnings.warn(message)\n",
      "Downloading (…)okenizer_config.json: 100%|██████████| 26.0/26.0 [00:00<00:00, 8.72kB/s]\n",
      "Downloading (…)olve/main/vocab.json: 100%|██████████| 899k/899k [00:01<00:00, 631kB/s]\n",
      "Downloading (…)olve/main/merges.txt: 100%|██████████| 456k/456k [00:00<00:00, 530kB/s]\n"
     ]
    }
   ],
   "source": [
    "summarizer = pipeline('summarization')"
   ]
  },
  {
   "cell_type": "code",
   "execution_count": 21,
   "metadata": {},
   "outputs": [],
   "source": [
    "article =\"\"\"\n",
    "India, officially the Republic of India is a country in South Asia. It is the seventh-largest country by area, the second-most populous country, and the most populous democracy in the world. Bounded by the Indian Ocean on the south, the Arabian Sea on the southwest, and the Bay of Bengal on the southeast, it shares land borders with Pakistan to the west; China, Nepal, and Bhutan to the north; and Bangladesh and Myanmar to the east. In the Indian Ocean, India is in the vicinity of Sri Lanka and the Maldives; its Andaman and Nicobar Islands share a maritime border with Thailand, Myanmar, and Indonesia.\n",
    "\"\"\"\n",
    "\n",
    "# article = \"\"\"\n",
    "# Jash Sharma is a young and growing music producer from Indore, India born on 3rd August 2001. Jash started working in the field of music in the year 2017. Noting the fact that without having any musical background he successfully released his first music piece in the year 2020 titled \"All Together\" under the pseudonym JXSRMA. Apart from his passion for the music field, he is also a computer geek, pursuing his graduation in the field of computer science. He is still learning and working in the field of music, being a music producer he is an amazing artist. After his first release, he has released some more of his work and the work he has done is commendable.\n",
    "# \"\"\""
   ]
  },
  {
   "cell_type": "code",
   "execution_count": 23,
   "metadata": {},
   "outputs": [],
   "source": [
    "summary = summarizer(article, max_length=100, min_length=100, do_sample=False)"
   ]
  },
  {
   "cell_type": "code",
   "execution_count": 24,
   "metadata": {},
   "outputs": [
    {
     "data": {
      "text/plain": [
       "' India is the seventh-largest country by area, the second-most populous country, and the most populous democracy in the world . Bounded by the Indian Ocean on the south, the Arabian Sea on the southwest and the Bay of Bengal on the southeast . India is in the vicinity of Sri Lanka and the Maldives; its Andaman and Nicobar Islands share a maritime border with Thailand, Myanmar, and Indonesia . It shares land borders with Pakistan to the west; China, Nepal,'"
      ]
     },
     "execution_count": 24,
     "metadata": {},
     "output_type": "execute_result"
    }
   ],
   "source": [
    "sum = summary[0]['summary_text']\n",
    "sum"
   ]
  },
  {
   "cell_type": "code",
   "execution_count": 7,
   "metadata": {},
   "outputs": [
    {
     "data": {
      "text/plain": [
       "' Jash Sharma is a young and growing music producer from Indore, India He has released his first music piece in the year 2020 titled \"All Together\" under the pseudonym JXSRMA Apart from his passion for the music field, he is also a computer geek, pursuing his graduation in the field of computer science'"
      ]
     },
     "execution_count": 7,
     "metadata": {},
     "output_type": "execute_result"
    }
   ],
   "source": [
    "def removePunc(words):\n",
    "    punc = [\".\", \",\", \"?\", \"-\", \":\"]\n",
    "    if words in punc:\n",
    "        return False\n",
    "    else:\n",
    "        return True\n",
    "\n",
    "\n",
    "words = sum.split(\" \")\n",
    "filtered = filter(removePunc, words)\n",
    "text = \"\"\n",
    "for s in filtered:\n",
    "    text = text + s + \" \"\n",
    "text = text.rstrip()\n",
    "text"
   ]
  },
  {
   "cell_type": "code",
   "execution_count": null,
   "metadata": {},
   "outputs": [],
   "source": [
    "# from deepmultilingualpunctuation import PunctuationModel\n",
    "\n",
    "# model = PunctuationModel()\n",
    "# # model = open(\"model/tf_model.h5\")C:\\Programing\\sum-it-up\\model\n",
    "# # model = open(\"C:/Programing/sum-it-up/model\")\n",
    "# # text = \"My name is Clara and I live in Berkeley California Ist das eine Frage Frau Müller\"\n",
    "# result = model.restore_punctuation(text)\n",
    "# result\n"
   ]
  },
  {
   "cell_type": "code",
   "execution_count": 8,
   "metadata": {},
   "outputs": [],
   "source": [
    "from fastpunct import FastPunct\n",
    "\n",
    "text = [\n",
    "    \"he started working in the field of music in the year 2017 under the pseudonym JXSRMA\",\n",
    "    \"after his first release he has released some more of his work\",\n",
    "    \"he is also a computer geek pursuing his degree in computer science\",\n",
    "]\n"
   ]
  },
  {
   "cell_type": "code",
   "execution_count": 9,
   "metadata": {},
   "outputs": [],
   "source": [
    "\n",
    "fastpunct = FastPunct()\n"
   ]
  },
  {
   "cell_type": "code",
   "execution_count": 10,
   "metadata": {},
   "outputs": [
    {
     "data": {
      "text/plain": [
       "['He started working in the field of music in the year 2017 under the pseudonym JXSRMA.',\n",
       " 'After his first release, he has released some more of his work.',\n",
       " 'He is also a computer geek pursuing his degree in computer science.']"
      ]
     },
     "execution_count": 10,
     "metadata": {},
     "output_type": "execute_result"
    }
   ],
   "source": [
    "result = fastpunct.punct(text,correct = True) \n",
    "result\n",
    "#OUTPUT - ['Oh! I thought you were here.']"
   ]
  }
 ],
 "metadata": {
  "kernelspec": {
   "display_name": "Python 3",
   "language": "python",
   "name": "python3"
  },
  "language_info": {
   "codemirror_mode": {
    "name": "ipython",
    "version": 3
   },
   "file_extension": ".py",
   "mimetype": "text/x-python",
   "name": "python",
   "nbconvert_exporter": "python",
   "pygments_lexer": "ipython3",
   "version": "3.9.13"
  },
  "orig_nbformat": 4,
  "vscode": {
   "interpreter": {
    "hash": "ed06ce79c699b2a8635fb6ba08f3407056cfa8a68ae6f7430e3be2442f7c3982"
   }
  }
 },
 "nbformat": 4,
 "nbformat_minor": 2
}

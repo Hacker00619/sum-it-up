{
 "cells": [
  {
   "cell_type": "code",
   "execution_count": 1,
   "metadata": {},
   "outputs": [
    {
     "name": "stderr",
     "output_type": "stream",
     "text": [
      "c:\\Users\\Jash\\AppData\\Local\\Programs\\Python\\Python39\\lib\\site-packages\\tqdm\\auto.py:22: TqdmWarning: IProgress not found. Please update jupyter and ipywidgets. See https://ipywidgets.readthedocs.io/en/stable/user_install.html\n",
      "  from .autonotebook import tqdm as notebook_tqdm\n"
     ]
    }
   ],
   "source": [
    "# from tensorflow import keras\n",
    "from transformers import pipeline"
   ]
  },
  {
   "cell_type": "code",
   "execution_count": 2,
   "metadata": {},
   "outputs": [
    {
     "name": "stderr",
     "output_type": "stream",
     "text": [
      "No model was supplied, defaulted to t5-small and revision d769bba (https://huggingface.co/t5-small).\n",
      "Using a pipeline without specifying a model name and revision in production is not recommended.\n",
      "All model checkpoint layers were used when initializing TFT5ForConditionalGeneration.\n",
      "\n",
      "All the layers of TFT5ForConditionalGeneration were initialized from the model checkpoint at t5-small.\n",
      "If your task is similar to the task the model of the checkpoint was trained on, you can already use TFT5ForConditionalGeneration for predictions without further training.\n",
      "c:\\Users\\Jash\\AppData\\Local\\Programs\\Python\\Python39\\lib\\site-packages\\transformers\\models\\t5\\tokenization_t5_fast.py:155: FutureWarning: This tokenizer was incorrectly instantiated with a model max length of 512 which will be corrected in Transformers v5.\n",
      "For now, this behavior is kept to avoid breaking backwards compatibility when padding/encoding with `truncation is True`.\n",
      "- Be aware that you SHOULD NOT rely on t5-small automatically truncating your input to 512 when padding/encoding.\n",
      "- If you want to encode/pad to sequences longer than 512 you can either instantiate this tokenizer with `model_max_length` or pass `max_length` when encoding/padding.\n",
      "- To avoid this warning, please instantiate this tokenizer with `model_max_length` set to your preferred value.\n",
      "  warnings.warn(\n"
     ]
    }
   ],
   "source": [
    "summarizer = pipeline('summarization')"
   ]
  },
  {
   "cell_type": "code",
   "execution_count": 3,
   "metadata": {},
   "outputs": [],
   "source": [
    "article = \"\"\"\n",
    "Bajaj Pulsar N250 is a street bike available at a starting price of Rs. 1,44,285 in India. It is available in 2 variants and 4 colours with top variant price starting from Rs. 1,50,429. The Bajaj Pulsar N250 is powered by 249cc BS6 engine which develops a power of 24.1 bhp and a torque of 21.5 Nm. With both front and rear disc brakes, Bajaj Pulsar N250 comes up with anti-locking braking system. This Pulsar N250 bike weighs 162 kg and has a fuel tank capacity of 14 liters.\n",
    "\n",
    "Bajaj has kick-started a new era of its iconic Pulsar family with the launch of the new 250cc siblings. Out of the two variants of the bike, the Pulsar N250 is the naked version with a minimalistic yet aggressive front section with a single-piece handlebar. The semi-faired F trim, meanwhile, gets a bulky front cowl with clip-ons.\n",
    "\n",
    "The Pulsar N250 retains some styling cues of the NS200 but in a fresh avatar. The most distinctive aspect is the front fascia which comprises an LED projector flanked by eyebrow-like slim LED DRLs. The edginess and aggression continue at the back with sharp fuel tank extensions and a sleek and raked tail section. As for the features, there’s an assist and slipper clutch for easy and safe gearshifts along with a new semi-digital console. You also get a USB charging port sitting under the handlebar.\n",
    "\n",
    "The 250cc, oil-cooled motor of the new Pulsar is the largest engine we have ever seen in this family. The company says this is a free-revving mill and offers a meaty mid-range performance. As for the numbers, it pumps out 24.1bhp of power and 21.5Nm of torque. It comes mated to a five-speed gearbox. It rides on 17-inch alloy wheels shod with 100/80 and 130/70 section tyres at the front and rear, respectively. Handling damping duties is are 37mm telescopic forks and a monoshock while the braking setup comprises a single disc at both ends. The fuel tank capacity is quite impressive at 14-litre.\n",
    "\n",
    "The motorcycle has been introduced only in a grey paint scheme as of now. In India, the motorcycle will go up against the likes of the Suzuki Gixxer 250 and the Yamaha FZ25.\n",
    "\"\"\"\n",
    "# article = \"\"\"\n",
    "# Jash Sharma is a young and growing music producer from Indore, India born on 3rd August 2001. Jash started working in the field of music in the year 2017. Noting the fact that without having any musical background he successfully released his first music piece in the year 2020 titled \"All Together\" under the pseudonym JXSRMA. Apart from his passion for the music field, he is also a computer geek, pursuing his graduation in the field of computer science. He is still learning and working in the field of music, being a music producer he is an amazing artist. After his first release, he has released some more of his work and the work he has done is commendable.\n",
    "# \"\"\"\n"
   ]
  },
  {
   "cell_type": "code",
   "execution_count": 8,
   "metadata": {},
   "outputs": [],
   "source": [
    "summary = summarizer(article, max_length=100, min_length=50, do_sample=False)\n"
   ]
  },
  {
   "cell_type": "code",
   "execution_count": 11,
   "metadata": {},
   "outputs": [
    {
     "data": {
      "text/plain": [
       "'the Bajaj Pulsar N250 is powered by 249cc BS6 engine which develops a power of 24.1 bhp and a torque of 21.5 Nm . it has a fuel tank capacity of 14 liters and is mated to a five-speed gearbox .'"
      ]
     },
     "execution_count": 11,
     "metadata": {},
     "output_type": "execute_result"
    }
   ],
   "source": [
    "summary[0]['summary_text']"
   ]
  }
 ],
 "metadata": {
  "kernelspec": {
   "display_name": "Python 3",
   "language": "python",
   "name": "python3"
  },
  "language_info": {
   "codemirror_mode": {
    "name": "ipython",
    "version": 3
   },
   "file_extension": ".py",
   "mimetype": "text/x-python",
   "name": "python",
   "nbconvert_exporter": "python",
   "pygments_lexer": "ipython3",
   "version": "3.9.13"
  },
  "orig_nbformat": 4,
  "vscode": {
   "interpreter": {
    "hash": "ed06ce79c699b2a8635fb6ba08f3407056cfa8a68ae6f7430e3be2442f7c3982"
   }
  }
 },
 "nbformat": 4,
 "nbformat_minor": 2
}

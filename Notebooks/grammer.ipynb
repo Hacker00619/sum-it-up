{
 "cells": [
  {
   "cell_type": "code",
   "execution_count": 71,
   "metadata": {},
   "outputs": [],
   "source": [
    "import language_tool_python"
   ]
  },
  {
   "cell_type": "code",
   "execution_count": 72,
   "metadata": {},
   "outputs": [],
   "source": [
    "# using the tool\n",
    "my_tool = language_tool_python.LanguageTool(\"en-US\")\n"
   ]
  },
  {
   "cell_type": "code",
   "execution_count": 73,
   "metadata": {},
   "outputs": [],
   "source": [
    "# given text\n",
    "# my_text = \"\"\"LanguageTool provides utility to check grammar and spelling errors. We just have to paste the text here and click the 'Check Text' button. Click the colored phrases for for information on potential errors. or we can use this text too see an some of the issues that LanguageTool can dedect. Whot do someone thinks of grammar checkers? Please not that they are not perfect. Style problems get a blue marker: It is 7 P.M. in the evening. The weather was nice on Monday, 22 November 2021\"\"\"\n",
    "my_text = \"\"\"the World is is veri dengerous place\"\"\"\n"
   ]
  },
  {
   "cell_type": "code",
   "execution_count": 74,
   "metadata": {},
   "outputs": [],
   "source": [
    "# getting the matches\n",
    "my_matches = my_tool.check(my_text)\n"
   ]
  },
  {
   "cell_type": "code",
   "execution_count": 83,
   "metadata": {},
   "outputs": [
    {
     "data": {
      "text/plain": [
       "[{'ruleId': 'UPPERCASE_SENTENCE_START',\n",
       "  'message': 'This sentence does not start with an uppercase letter.',\n",
       "  'replacements': ['The'],\n",
       "  'offsetInContext': 0,\n",
       "  'context': 'the World is is veri dengerous place',\n",
       "  'offset': 0,\n",
       "  'errorLength': 3,\n",
       "  'category': 'CASING',\n",
       "  'ruleIssueType': 'typographical',\n",
       "  'sentence': 'the World is is veri dengerous place'},\n",
       " {'ruleId': 'ENGLISH_WORD_REPEAT_RULE',\n",
       "  'message': 'Possible typo: you repeated a word',\n",
       "  'replacements': ['is'],\n",
       "  'offsetInContext': 10,\n",
       "  'context': 'the World is is veri dengerous place',\n",
       "  'offset': 10,\n",
       "  'errorLength': 5,\n",
       "  'category': 'MISC',\n",
       "  'ruleIssueType': 'duplication',\n",
       "  'sentence': 'the World is is veri dengerous place'},\n",
       " {'ruleId': 'MORFOLOGIK_RULE_EN_US',\n",
       "  'message': 'Possible spelling mistake found.',\n",
       "  'replacements': ['very',\n",
       "   'verb',\n",
       "   'Verdi',\n",
       "   'Teri',\n",
       "   'Keri',\n",
       "   'Vern',\n",
       "   'Jeri',\n",
       "   'VRI',\n",
       "   'VEI',\n",
       "   'Vera',\n",
       "   'vert'],\n",
       "  'offsetInContext': 16,\n",
       "  'context': 'the World is is veri dengerous place',\n",
       "  'offset': 16,\n",
       "  'errorLength': 4,\n",
       "  'category': 'TYPOS',\n",
       "  'ruleIssueType': 'misspelling',\n",
       "  'sentence': 'the World is is veri dengerous place'},\n",
       " {'ruleId': 'MORFOLOGIK_RULE_EN_US',\n",
       "  'message': 'Possible spelling mistake found.',\n",
       "  'replacements': ['dangerous'],\n",
       "  'offsetInContext': 21,\n",
       "  'context': 'the World is is veri dengerous place',\n",
       "  'offset': 21,\n",
       "  'errorLength': 9,\n",
       "  'category': 'TYPOS',\n",
       "  'ruleIssueType': 'misspelling',\n",
       "  'sentence': 'the World is is veri dengerous place'}]"
      ]
     },
     "execution_count": 83,
     "metadata": {},
     "output_type": "execute_result"
    }
   ],
   "source": [
    "# printing matches\n",
    "# my_matches\n",
    "\n",
    "checklist = []\n",
    "\n",
    "for i in my_matches:\n",
    "    checkDict = {\n",
    "        \"ruleId\": i.ruleId,\n",
    "        \"message\": i.message,\n",
    "        \"replacements\": i.replacements,\n",
    "        \"offsetInContext\": i.offsetInContext,\n",
    "        \"context\": i.context,\n",
    "        \"offset\": i.offset,\n",
    "        \"errorLength\": i.errorLength,\n",
    "        \"category\": i.category,\n",
    "        \"ruleIssueType\": i.ruleIssueType,\n",
    "        \"sentence\": i.sentence,\n",
    "    }\n",
    "    checklist.append(checkDict)\n",
    "checklist\n",
    "    "
   ]
  },
  {
   "cell_type": "code",
   "execution_count": 76,
   "metadata": {},
   "outputs": [],
   "source": [
    "# defining some variables  \n",
    "myMistakes = []  \n",
    "myCorrections = []  \n",
    "startPositions = []  \n",
    "endPositions = []  "
   ]
  },
  {
   "cell_type": "code",
   "execution_count": 77,
   "metadata": {},
   "outputs": [],
   "source": [
    "# using the for-loop  \n",
    "for rules in my_matches:  \n",
    "    if len(rules.replacements) > 0:  \n",
    "        startPositions.append(rules.offset)  \n",
    "        endPositions.append(rules.errorLength + rules.offset)  \n",
    "        myMistakes.append(my_text[rules.offset : rules.errorLength + rules.offset])  \n",
    "        myCorrections.append(rules.replacements[0])\n",
    "\n",
    "# myMistakes\n",
    "# myCorrections\n",
    "# startPositions\n",
    "# endPositions"
   ]
  },
  {
   "cell_type": "code",
   "execution_count": 78,
   "metadata": {},
   "outputs": [],
   "source": [
    "# creating new object  \n",
    "my_NewText = list(my_text)\n"
   ]
  },
  {
   "cell_type": "code",
   "execution_count": 79,
   "metadata": {},
   "outputs": [],
   "source": [
    "# rewriting the correct passage  \n",
    "for n in range(len(startPositions)):  \n",
    "    for i in range(len(my_text)):  \n",
    "        my_NewText[startPositions[n]] = myCorrections[n]  \n",
    "        if (i > startPositions[n] and i < endPositions[n]):  \n",
    "            my_NewText[i] = \"\"  \n",
    "  "
   ]
  },
  {
   "cell_type": "code",
   "execution_count": 80,
   "metadata": {},
   "outputs": [],
   "source": [
    "my_NewText = \"\".join(my_NewText)"
   ]
  },
  {
   "cell_type": "code",
   "execution_count": 81,
   "metadata": {},
   "outputs": [
    {
     "name": "stdout",
     "output_type": "stream",
     "text": [
      "The World is very dangerous place\n"
     ]
    }
   ],
   "source": [
    "# printing the text  \n",
    "print(my_NewText)"
   ]
  }
 ],
 "metadata": {
  "kernelspec": {
   "display_name": "sitEnv",
   "language": "python",
   "name": "python3"
  },
  "language_info": {
   "codemirror_mode": {
    "name": "ipython",
    "version": 3
   },
   "file_extension": ".py",
   "mimetype": "text/x-python",
   "name": "python",
   "nbconvert_exporter": "python",
   "pygments_lexer": "ipython3",
   "version": "3.9.13"
  },
  "orig_nbformat": 4,
  "vscode": {
   "interpreter": {
    "hash": "12cf440864c37dfb74405192ae035392a3e0684232d94db4b628dfe48d0afcbe"
   }
  }
 },
 "nbformat": 4,
 "nbformat_minor": 2
}
